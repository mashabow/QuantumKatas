{
 "cells": [
  {
   "cell_type": "markdown",
   "metadata": {},
   "source": [
    "# Joint Measurements Kata\n",
    "\n",
    "**Joint Measurements** quantum kata is a series of exercises designed to get you familiar with programming in Q#. It covers the joint parity measurements and using them for distinguishing quantum states or for performing multi-qubit gates.\n",
    "\n",
    "* In Q# joint measurements are implemented as the [Measure](https://docs.microsoft.com/qsharp/api/qsharp/microsoft.quantum.intrinsic.measure) operation.\n",
    "* You can read more about measurements of multi-qubit Pauli operators in the [Q# documentation](https://docs.microsoft.com/quantum/concepts/pauli-measurements).\n",
    "\n",
    "Each task is wrapped in one operation preceded by the description of the task.  Your goal is to fill in the blank (marked with `// ...` comments)\n",
    "with some Q# code that solves the task. To verify your answer, run the cell using Ctrl/⌘+Enter.\n",
    "\n",
    "The tasks are given in approximate order of increasing difficulty; harder ones are marked with asterisks."
   ]
  },
  {
   "cell_type": "markdown",
   "metadata": {},
   "source": [
    "To begin, first prepare this notebook for execution (if you skip this step, you'll get \"Syntax does not match any known patterns\" error when you try to execute Q# code in the next cells):"
   ]
  },
  {
   "cell_type": "code",
   "execution_count": 21,
   "metadata": {},
   "outputs": [
    {
     "data": {
      "application/json": "[\"Microsoft.Quantum.Standard::0.10.1911.1607\",\"Microsoft.Quantum.Katas::0.10.1911.1607\"]",
      "text/html": [
       "<ul><li>Microsoft.Quantum.Standard::0.10.1911.1607</li><li>Microsoft.Quantum.Katas::0.10.1911.1607</li></ul>"
      ],
      "text/plain": [
       "Microsoft.Quantum.Standard::0.10.1911.1607, Microsoft.Quantum.Katas::0.10.1911.1607"
      ]
     },
     "execution_count": 21,
     "metadata": {},
     "output_type": "execute_result"
    }
   ],
   "source": [
    "%package Microsoft.Quantum.Katas::0.10.1911.1607"
   ]
  },
  {
   "cell_type": "markdown",
   "metadata": {},
   "source": [
    "> The package versions in the output of the cell above should always match. If you are running the Notebooks locally and the versions do not match, please install the IQ# version that matches the version of the `Microsoft.Quantum.Katas` package.\n",
    "> <details>\n",
    "> <summary><u>How to install the right IQ# version</u></summary>\n",
    "> For example, if the version of `Microsoft.Quantum.Katas` package above is 0.1.2.3, the installation steps are as follows:\n",
    ">\n",
    "> 1. Stop the kernel.\n",
    "> 2. Uninstall the existing version of IQ#:\n",
    ">        dotnet tool uninstall microsoft.quantum.iqsharp -g\n",
    "> 3. Install the matching version:\n",
    ">        dotnet tool install microsoft.quantum.iqsharp -g --version 0.1.2.3\n",
    "> 4. Reinstall the kernel:\n",
    ">        dotnet iqsharp install\n",
    "> 5. Restart the Notebook.\n",
    "> </details>\n"
   ]
  },
  {
   "cell_type": "code",
   "execution_count": 22,
   "metadata": {
    "scrolled": true
   },
   "outputs": [
    {
     "data": {
      "application/json": "[\"Quantum.Kata.JointMeasurements.CNOTWrapper\",\"Quantum.Kata.JointMeasurements.ControlledX\",\"Quantum.Kata.JointMeasurements.ControlledX_General\",\"Quantum.Kata.JointMeasurements.ControlledX_General_Reference\",\"Quantum.Kata.JointMeasurements.ControlledX_Reference\",\"Quantum.Kata.JointMeasurements.DifferentBasis\",\"Quantum.Kata.JointMeasurements.DifferentBasis_Reference\",\"Quantum.Kata.JointMeasurements.DistinguishStates_MultiQubit\",\"Quantum.Kata.JointMeasurements.GetMultiQubitNonMeasurementOpCount\",\"Quantum.Kata.JointMeasurements.GHZOrGHZWithX\",\"Quantum.Kata.JointMeasurements.GHZOrGHZWithX_Reference\",\"Quantum.Kata.JointMeasurements.GHZOrWState\",\"Quantum.Kata.JointMeasurements.GHZOrWState_Reference\",\"Quantum.Kata.JointMeasurements.ParityMeasurement\",\"Quantum.Kata.JointMeasurements.ParityMeasurement_Reference\",\"Quantum.Kata.JointMeasurements.SingleQubitMeasurement\",\"Quantum.Kata.JointMeasurements.SingleQubitMeasurement_Reference\",\"Quantum.Kata.JointMeasurements.StatePrep_A\",\"Quantum.Kata.JointMeasurements.StatePrep_DifferentBasis\",\"Quantum.Kata.JointMeasurements.StatePrep_GHZOrWState\",\"Quantum.Kata.JointMeasurements.StatePrep_ParityMeasurement\",\"Quantum.Kata.JointMeasurements.StatePrep_WState_Arbitrary\",\"Quantum.Kata.JointMeasurements.T01_SingleQubitMeasurement_Test\",\"Quantum.Kata.JointMeasurements.T02_ParityMeasurement_Test\",\"Quantum.Kata.JointMeasurements.T03_GHZOrGHZWithX_Test\",\"Quantum.Kata.JointMeasurements.T04_GHZOrWState_Test\",\"Quantum.Kata.JointMeasurements.T05_DifferentBasis_Test\",\"Quantum.Kata.JointMeasurements.T06_ControlledX_Test\",\"Quantum.Kata.JointMeasurements.T07_ControlledX_General_Test\"]",
      "text/html": [
       "<ul><li>Quantum.Kata.JointMeasurements.CNOTWrapper</li><li>Quantum.Kata.JointMeasurements.ControlledX</li><li>Quantum.Kata.JointMeasurements.ControlledX_General</li><li>Quantum.Kata.JointMeasurements.ControlledX_General_Reference</li><li>Quantum.Kata.JointMeasurements.ControlledX_Reference</li><li>Quantum.Kata.JointMeasurements.DifferentBasis</li><li>Quantum.Kata.JointMeasurements.DifferentBasis_Reference</li><li>Quantum.Kata.JointMeasurements.DistinguishStates_MultiQubit</li><li>Quantum.Kata.JointMeasurements.GetMultiQubitNonMeasurementOpCount</li><li>Quantum.Kata.JointMeasurements.GHZOrGHZWithX</li><li>Quantum.Kata.JointMeasurements.GHZOrGHZWithX_Reference</li><li>Quantum.Kata.JointMeasurements.GHZOrWState</li><li>Quantum.Kata.JointMeasurements.GHZOrWState_Reference</li><li>Quantum.Kata.JointMeasurements.ParityMeasurement</li><li>Quantum.Kata.JointMeasurements.ParityMeasurement_Reference</li><li>Quantum.Kata.JointMeasurements.SingleQubitMeasurement</li><li>Quantum.Kata.JointMeasurements.SingleQubitMeasurement_Reference</li><li>Quantum.Kata.JointMeasurements.StatePrep_A</li><li>Quantum.Kata.JointMeasurements.StatePrep_DifferentBasis</li><li>Quantum.Kata.JointMeasurements.StatePrep_GHZOrWState</li><li>Quantum.Kata.JointMeasurements.StatePrep_ParityMeasurement</li><li>Quantum.Kata.JointMeasurements.StatePrep_WState_Arbitrary</li><li>Quantum.Kata.JointMeasurements.T01_SingleQubitMeasurement_Test</li><li>Quantum.Kata.JointMeasurements.T02_ParityMeasurement_Test</li><li>Quantum.Kata.JointMeasurements.T03_GHZOrGHZWithX_Test</li><li>Quantum.Kata.JointMeasurements.T04_GHZOrWState_Test</li><li>Quantum.Kata.JointMeasurements.T05_DifferentBasis_Test</li><li>Quantum.Kata.JointMeasurements.T06_ControlledX_Test</li><li>Quantum.Kata.JointMeasurements.T07_ControlledX_General_Test</li></ul>"
      ],
      "text/plain": [
       "Quantum.Kata.JointMeasurements.CNOTWrapper, Quantum.Kata.JointMeasurements.ControlledX, Quantum.Kata.JointMeasurements.ControlledX_General, Quantum.Kata.JointMeasurements.ControlledX_General_Reference, Quantum.Kata.JointMeasurements.ControlledX_Reference, Quantum.Kata.JointMeasurements.DifferentBasis, Quantum.Kata.JointMeasurements.DifferentBasis_Reference, Quantum.Kata.JointMeasurements.DistinguishStates_MultiQubit, Quantum.Kata.JointMeasurements.GetMultiQubitNonMeasurementOpCount, Quantum.Kata.JointMeasurements.GHZOrGHZWithX, Quantum.Kata.JointMeasurements.GHZOrGHZWithX_Reference, Quantum.Kata.JointMeasurements.GHZOrWState, Quantum.Kata.JointMeasurements.GHZOrWState_Reference, Quantum.Kata.JointMeasurements.ParityMeasurement, Quantum.Kata.JointMeasurements.ParityMeasurement_Reference, Quantum.Kata.JointMeasurements.SingleQubitMeasurement, Quantum.Kata.JointMeasurements.SingleQubitMeasurement_Reference, Quantum.Kata.JointMeasurements.StatePrep_A, Quantum.Kata.JointMeasurements.StatePrep_DifferentBasis, Quantum.Kata.JointMeasurements.StatePrep_GHZOrWState, Quantum.Kata.JointMeasurements.StatePrep_ParityMeasurement, Quantum.Kata.JointMeasurements.StatePrep_WState_Arbitrary, Quantum.Kata.JointMeasurements.T01_SingleQubitMeasurement_Test, Quantum.Kata.JointMeasurements.T02_ParityMeasurement_Test, Quantum.Kata.JointMeasurements.T03_GHZOrGHZWithX_Test, Quantum.Kata.JointMeasurements.T04_GHZOrWState_Test, Quantum.Kata.JointMeasurements.T05_DifferentBasis_Test, Quantum.Kata.JointMeasurements.T06_ControlledX_Test, Quantum.Kata.JointMeasurements.T07_ControlledX_General_Test"
      ]
     },
     "execution_count": 22,
     "metadata": {},
     "output_type": "execute_result"
    }
   ],
   "source": [
    "%workspace reload"
   ]
  },
  {
   "cell_type": "markdown",
   "metadata": {},
   "source": [
    "### Task 1. Single-qubit measurement\n",
    "\n",
    "**Input:** Two qubits (stored in an array) which are guaranteed to be either in superposition of states $|00\\rangle$ and $|11\\rangle$ or in superposition of states $|01\\rangle$ and $|10\\rangle$.\n",
    "\n",
    "**Output:**  0 if qubits were in the first superposition, 1 if they were in the second superposition.  \n",
    "*The state of the qubits at the end of the operation does not matter.*\n",
    "\n",
    "<br/>\n",
    "<details closed>\n",
    "  <summary>Need a hint? Click here </summary>\n",
    "    Use two single-qubit measurements. \n",
    "</details>"
   ]
  },
  {
   "cell_type": "markdown",
   "metadata": {},
   "source": [
    "📝 `CNOT` を掛けると、`qs[1]` が必ず $|0\\rangle$ or 必ず $|1\\rangle$ になる。"
   ]
  },
  {
   "cell_type": "code",
   "execution_count": 23,
   "metadata": {},
   "outputs": [
    {
     "data": {
      "application/json": "\"Success!\"",
      "text/plain": [
       "Success!"
      ]
     },
     "execution_count": 23,
     "metadata": {},
     "output_type": "execute_result"
    }
   ],
   "source": [
    "%kata T01_SingleQubitMeasurement_Test \n",
    "\n",
    "operation SingleQubitMeasurement (qs : Qubit[]) : Int {\n",
    "    CNOT(qs[0], qs[1]);\n",
    "    return M(qs[1]) == Zero ? 0 | 1;\n",
    "}"
   ]
  },
  {
   "cell_type": "markdown",
   "metadata": {},
   "source": [
    "### Task 2. Parity measurement\n",
    "\n",
    "**Inputs**: Two qubits (stored in an array) which are guaranteed to be either in superposition of states $|00\\rangle$ and $|11\\rangle$ or in superposition of states $|01\\rangle$ and $|10\\rangle$.\n",
    "\n",
    "**Output**: 0 if qubits were in the first superposition, 1 if they were in the second superposition.  \n",
    "*The state of the qubits at the end of the operation should be the same as the starting state.*"
   ]
  },
  {
   "cell_type": "markdown",
   "metadata": {},
   "source": [
    "📝 元の状態に戻さないといけないので、`CNOT` の逆操作（= `CNOT`）を測定後に行う。"
   ]
  },
  {
   "cell_type": "code",
   "execution_count": 24,
   "metadata": {},
   "outputs": [
    {
     "data": {
      "application/json": "\"Success!\"",
      "text/plain": [
       "Success!"
      ]
     },
     "execution_count": 24,
     "metadata": {},
     "output_type": "execute_result"
    }
   ],
   "source": [
    "%kata T02_ParityMeasurement_Test \n",
    "\n",
    "operation ParityMeasurement (qs : Qubit[]) : Int {\n",
    "    CNOT(qs[0], qs[1]);\n",
    "    let result = M(qs[1]) == Zero ? 0 | 1;\n",
    "    CNOT(qs[0], qs[1]);\n",
    "    return result;\n",
    "}"
   ]
  },
  {
   "cell_type": "markdown",
   "metadata": {},
   "source": [
    "📝 [Pauli Measurements](https://docs.microsoft.com/en-us/quantum/concepts/pauli-measurements?view=qsharp-preview) のドキュメントによれば、計算基底に限らず、好きな基底で測定する（Pauli measurement）ことが [`Measure`](https://docs.microsoft.com/en-us/qsharp/api/qsharp/microsoft.quantum.intrinsic.measure) でできるらしい。複数キュビットの測定にも適用でき、その場合も結果は `Zero` か `One` になる。"
   ]
  },
  {
   "cell_type": "code",
   "execution_count": 28,
   "metadata": {},
   "outputs": [
    {
     "data": {
      "application/json": "\"Success!\"",
      "text/plain": [
       "Success!"
      ]
     },
     "execution_count": 28,
     "metadata": {},
     "output_type": "execute_result"
    }
   ],
   "source": [
    "%kata T02_ParityMeasurement_Test \n",
    "\n",
    "operation ParityMeasurement (qs : Qubit[]) : Int {\n",
    "    return Measure([PauliZ, PauliZ], qs) == Zero ? 0 | 1;\n",
    "}"
   ]
  },
  {
   "cell_type": "markdown",
   "metadata": {},
   "source": [
    "📝 上のコードでは、$Z \\otimes Z$ で測定した。これは\n",
    "\n",
    "$$\n",
    "Z \\otimes Z = \\begin{bmatrix}\n",
    "1 & 0 & 0 & 0 \\\\\n",
    "0 & -1 & 0 & 0 \\\\\n",
    "0 & 0 & -1 & 0 \\\\\n",
    "0 & 0 & 0 & 1 \\\\\n",
    "\\end{bmatrix}\n",
    "$$\n",
    "\n",
    "なので、\n",
    "\n",
    "$$\n",
    "\\begin{align}\n",
    "(Z \\otimes Z)|00\\rangle &= |00\\rangle, \\\\\n",
    "(Z \\otimes Z)|11\\rangle &= |11\\rangle\n",
    "\\end{align}\n",
    "$$\n",
    "\n",
    "となり、これらに対する固有値は 1。よって、測定結果として `Zero` が返ってくる。また、\n",
    "\n",
    "$$\n",
    "\\begin{align}\n",
    "(Z \\otimes Z)|01\\rangle &= - |01\\rangle, \\\\\n",
    "(Z \\otimes Z)|10\\rangle &= - |10\\rangle\n",
    "\\end{align}\n",
    "$$\n",
    "\n",
    "となり、これらに対する固有値は -1。よって、測定結果として `One` が返ってくる。"
   ]
  },
  {
   "cell_type": "markdown",
   "metadata": {},
   "source": [
    "### Task 3. $|0000\\rangle + |1111\\rangle$ or $|0011\\rangle + |1100\\rangle$  ?\n",
    "**Inputs**: Four qubits (stored in an array) which are guaranteed to be either in superposition of states $|0000\\rangle$ and $|1111\\rangle$ or in superposition of states $|0011\\rangle$ and $|1100\\rangle$.\n",
    "\n",
    "**Output** : 0 if qubits were in the first superposition, 1 if they were in the second superposition.  \n",
    "*The state of the qubits at the end of the operation should be the same as the starting state.*"
   ]
  },
  {
   "cell_type": "markdown",
   "metadata": {},
   "source": [
    "📝 真ん中の2キュビットだけ見ればと前問と同じ。"
   ]
  },
  {
   "cell_type": "code",
   "execution_count": 25,
   "metadata": {},
   "outputs": [
    {
     "data": {
      "application/json": "\"Success!\"",
      "text/plain": [
       "Success!"
      ]
     },
     "execution_count": 25,
     "metadata": {},
     "output_type": "execute_result"
    }
   ],
   "source": [
    "%kata T03_GHZOrGHZWithX_Test \n",
    "\n",
    "operation GHZOrGHZWithX (qs : Qubit[]) : Int {\n",
    "    return ParityMeasurement(qs[1..2]);\n",
    "}"
   ]
  },
  {
   "cell_type": "markdown",
   "metadata": {},
   "source": [
    "### Task 4. $|0..0\\rangle + |1..1\\rangle$ or W state ?\n",
    "\n",
    "**Inputs:** An even number of qubits (stored in an array) which are guaranteed to be either in a superposition of states |0..0$\\rangle$ and |1..1$\\rangle$ or in the [W state](https://en.wikipedia.org/wiki/W_state).\n",
    "\n",
    "**Output:** 0 if qubits were in the first superposition, 1 if they were in the second superposition. \n",
    "*The state of the qubits at the end of the operation should be the same as the starting state.*"
   ]
  },
  {
   "cell_type": "markdown",
   "metadata": {},
   "source": [
    "📝 Task 2 の $Z \\otimes Z$ での測定結果は、状態の偶奇に対応していた。キュビット数が増えても、$Z \\otimes \\dots \\otimes Z$ で同様に偶奇が区別できる。今回、キュビット数は偶数なので、$|0\\dots 0\\rangle$ や $|1\\dots 1\\rangle$ は必ず偶になる。逆に、W state はつねに奇。"
   ]
  },
  {
   "cell_type": "code",
   "execution_count": 27,
   "metadata": {},
   "outputs": [
    {
     "data": {
      "application/json": "\"Success!\"",
      "text/plain": [
       "Success!"
      ]
     },
     "execution_count": 27,
     "metadata": {},
     "output_type": "execute_result"
    }
   ],
   "source": [
    "%kata T04_GHZOrWState_Test\n",
    "\n",
    "open Microsoft.Quantum.Characterization;\n",
    "\n",
    "operation GHZOrWState (qs : Qubit[]) : Int {\n",
    "    return MeasureAllZ(qs) == Zero ? 0 | 1;\n",
    "}"
   ]
  },
  {
   "cell_type": "markdown",
   "metadata": {},
   "source": [
    "### Task 5*. Parity measurement in different basis\n",
    "\n",
    "**Inputs:** Two qubits (stored in an array) which are guaranteed to be\n",
    "* either in superposition $\\alpha |00\\rangle + \\beta |01\\rangle + \\beta |10\\rangle + \\alpha |11\\rangle$\n",
    "* or in superposition $\\alpha |00\\rangle - \\beta |01\\rangle + \\beta |10\\rangle - \\alpha |11\\rangle$\n",
    "\n",
    "**Output:** 0 if qubits were in the first superposition, 1 if they were in the second superposition.  \n",
    "*The state of the qubits at the end of the operation should be the same as the starting state.*"
   ]
  },
  {
   "cell_type": "markdown",
   "metadata": {},
   "source": [
    "📝 前者は $|\\mathord{++}\\rangle$ と $|\\mathord{--}\\rangle$ の重ね合わせ、後者は $|\\mathord{+-}\\rangle$ と $|\\mathord{-+}\\rangle$ の重ね合わせで表せるので、$X \\otimes X$ で測定すればいいらしい。思いつかない…\n",
    "\n",
    "実際に、\n",
    "\n",
    "$$\n",
    "\\begin{align}\n",
    "a |\\mathord{++}\\rangle + b |\\mathord{--}\\rangle\n",
    "&= \\frac{a}{2} \\big(|00\\rangle + |01\\rangle + |10\\rangle + |11\\rangle \\big)\n",
    " + \\frac{b}{2} \\big(|00\\rangle - |01\\rangle - |10\\rangle + |11\\rangle \\big) \\\\\n",
    "&= \\frac{a + b}{2} |00\\rangle + \\frac{a - b}{2} |00\\rangle + \\frac{a - b}{2} |10\\rangle + \\frac{a + b}{2} |11\\rangle\n",
    "\\end{align}\n",
    "$$\n",
    "\n",
    "なので、\n",
    "\n",
    "$$\n",
    "\\alpha = \\frac{a + b}{2},\\quad \\beta = \\frac{a - b}{2}\n",
    "$$\n",
    "\n",
    "となるように $a, b$ を決めれば $\\alpha |00\\rangle + \\beta |01\\rangle + \\beta |10\\rangle + \\alpha |11\\rangle$ となる。後者も同様。"
   ]
  },
  {
   "cell_type": "code",
   "execution_count": 31,
   "metadata": {},
   "outputs": [
    {
     "data": {
      "application/json": "\"Success!\"",
      "text/plain": [
       "Success!"
      ]
     },
     "execution_count": 31,
     "metadata": {},
     "output_type": "execute_result"
    }
   ],
   "source": [
    "%kata T05_DifferentBasis_Test\n",
    "\n",
    "operation DifferentBasis (qs : Qubit[]) : Int {\n",
    "    return Measure([PauliX, PauliX], qs) == Zero ? 0 | 1;\n",
    "}"
   ]
  },
  {
   "cell_type": "markdown",
   "metadata": {},
   "source": [
    "### Task 6*. Controlled X gate with $|0\\rangle$ target\n",
    "\n",
    "**Input:** Two unentangled qubits (stored in an array of length 2). The first qubit (`qs[0]`) will be in state $|\\psi\\rangle = \\alpha |0\\rangle + \\beta |1\\rangle$ , the second (`qs[1]`) - in state $|0\\rangle$ (this can be written as two-qubit state $\\big(\\alpha |0\\rangle + \\beta |1\\rangle\\big) \\otimes |0\\rangle$). \n",
    "\n",
    "**Output:** Change the two-qubit state to $\\alpha |00\\rangle + \\beta |11\\rangle$ using only single-qubit gates and joint measurements. Do not use two-qubit gates. You do not need to allocate extra qubits."
   ]
  },
  {
   "cell_type": "markdown",
   "metadata": {},
   "source": [
    "📝 Task 2 の測定では偶奇が判別できた。また、この測定を行っても、キュビットの状態には影響を与えなかった。\n",
    "\n",
    "$\\big(\\alpha |0\\rangle + \\beta |1\\rangle\\big) \\otimes |0\\rangle = \\alpha |00\\rangle + \\beta |10\\rangle$ なので、奇だった場合にのみ `Z(qs[1])` を適用すれば、$\\alpha |00\\rangle + \\beta |11\\rangle$ になる。\n",
    "\n",
    "…かと思ったが、「キュビットの状態には影響を与えなかった」というのは Task 2 の入力が「$|00\\rangle$ と $|11\\rangle$ の重ね合わせ」or「$|01\\rangle$ と $|10\\rangle$ の重ね合わせ」という条件があったから成り立っただけだった。"
   ]
  },
  {
   "cell_type": "code",
   "execution_count": 40,
   "metadata": {},
   "outputs": [
    {
     "name": "stderr",
     "output_type": "stream",
     "text": [
      "Qubit in invalid state. Expecting: Zero\n",
      "\tExpected:\t0\n",
      "\tActual:\t0.030153689607045803\n",
      "Try again!\n"
     ]
    }
   ],
   "source": [
    "%kata T06_ControlledX_Test\n",
    "\n",
    "operation ControlledX (qs : Qubit[]) : Unit {\n",
    "    if (Measure([PauliZ, PauliZ], qs) == One) {\n",
    "        Z(qs[1]);\n",
    "    }\n",
    "}"
   ]
  },
  {
   "cell_type": "markdown",
   "metadata": {},
   "source": [
    "📝 解答を見ると、$H$ を使うらしい。（以下、係数の $1/\\sqrt{2}$ は省略）\n",
    "\n",
    "$$\n",
    "\\begin{align}\n",
    "\\big(\\alpha |0\\rangle + \\beta |1\\rangle\\big) \\otimes |0\\rangle\n",
    "&\\xrightarrow{I \\otimes H}\n",
    "  \\big(\\alpha |0\\rangle + \\beta |1\\rangle\\big) \\otimes \\big( |0\\rangle + |1\\rangle \\big) \\\\\n",
    "&= \\big(\\alpha|00\\rangle + \\beta|11\\rangle\\big) + \\big(\\alpha|01\\rangle + \\beta|10\\rangle\\big) \n",
    "\\end{align}\n",
    "$$\n",
    "\n",
    "$Z \\otimes Z$ で測定すると、偶なら第1項、奇なら第2項の状態になる。偶の場合、そのままで $\\alpha |00\\rangle + \\beta |11\\rangle$。奇の場合、後ろのキュビットを反転させれば $\\alpha |00\\rangle + \\beta |11\\rangle$ になる。"
   ]
  },
  {
   "cell_type": "code",
   "execution_count": 45,
   "metadata": {},
   "outputs": [
    {
     "data": {
      "application/json": "\"Success!\"",
      "text/plain": [
       "Success!"
      ]
     },
     "execution_count": 45,
     "metadata": {},
     "output_type": "execute_result"
    }
   ],
   "source": [
    "%kata T06_ControlledX_Test\n",
    "\n",
    "operation ControlledX (qs : Qubit[]) : Unit {\n",
    "    H(qs[1]);\n",
    "    if (Measure([PauliZ, PauliZ], qs) == One) {\n",
    "        X(qs[1]);\n",
    "    }\n",
    "}"
   ]
  },
  {
   "cell_type": "markdown",
   "metadata": {},
   "source": [
    "### Task 7**. Controlled X gate with arbitrary target\n",
    "\n",
    "**Input:** Two qubits (stored in an array of length 2) in an arbitrary two-qubit state $\\alpha |00\\rangle + \\beta |01\\rangle + \\color{blue}\\gamma |10\\rangle  + \\color{blue}\\delta |11\\rangle$.\n",
    "\n",
    "**Goal:** Change the two-qubit state to $\\alpha |00\\rangle + \\beta |01\\rangle + \\color{red}\\delta |10\\rangle  + \\color{red}\\gamma |11\\rangle$ using only single-qubit gates and joint measurements.  Do not use two-qubit gates.\n",
    "\n",
    "> A general-case implementation of CNOT gate via joint measurements is described in [this paper](https://arxiv.org/pdf/1201.5734.pdf).\n",
    "\n",
    "<details>\n",
    "  <summary>Need a hint? Click here</summary>\n",
    "  You can use an extra qubit to perform this operation.\n",
    "</details>"
   ]
  },
  {
   "cell_type": "code",
   "execution_count": null,
   "metadata": {},
   "outputs": [],
   "source": [
    "%kata T07_ControlledX_General_Test\n",
    "\n",
    "operation ControlledX_General (qs : Qubit[]) : Unit {\n",
    "    // ...\n",
    "}"
   ]
  }
 ],
 "metadata": {
  "kernelspec": {
   "display_name": "Q#",
   "language": "qsharp",
   "name": "iqsharp"
  },
  "language_info": {
   "file_extension": ".qs",
   "mimetype": "text/x-qsharp",
   "name": "qsharp",
   "version": "0.4"
  }
 },
 "nbformat": 4,
 "nbformat_minor": 2
}
